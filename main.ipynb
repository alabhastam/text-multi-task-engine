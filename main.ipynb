{
  "nbformat": 4,
  "nbformat_minor": 0,
  "metadata": {
    "colab": {
      "provenance": [],
      "toc_visible": true,
      "authorship_tag": "ABX9TyO7X/EtjEXQBDVwOrulc3FI",
      "include_colab_link": true
    },
    "kernelspec": {
      "name": "python3",
      "display_name": "Python 3"
    },
    "language_info": {
      "name": "python"
    }
  },
  "cells": [
    {
      "cell_type": "markdown",
      "metadata": {
        "id": "view-in-github",
        "colab_type": "text"
      },
      "source": [
        "<a href=\"https://colab.research.google.com/github/alabhastam/text-multi-task-engine/blob/main/main.ipynb\" target=\"_parent\"><img src=\"https://colab.research.google.com/assets/colab-badge.svg\" alt=\"Open In Colab\"/></a>"
      ]
    },
    {
      "cell_type": "code",
      "execution_count": null,
      "metadata": {
        "id": "EQp7QcRuIEYR"
      },
      "outputs": [],
      "source": [
        "from transformers import pipeline\n",
        "\n",
        "summarizer = pipeline(\"summarization\")\n",
        "summary = summarizer(\"A Long Text Generator is an AI-powered tool that automates the generation of lengthy pieces of text based on user input. By utilizing advanced algorithms and natural language processing (NLP) techniques, these generators can produce coherent and contextually relevant content on a wide range of topics. This technology marks a significant leap forward in content creation, offering a solution to the time-consuming nature of writing comprehensive articles, essays, product descriptions, and more.\", max_length=47)\n",
        "print(summary[0]['summary_text'])"
      ]
    },
    {
      "cell_type": "code",
      "source": [
        "from transformers import pipeline\n",
        "\n",
        "# Step 1: Summarization\n",
        "summarizer = pipeline(\"summarization\", model=\"facebook/bart-large-cnn\")\n",
        "\n",
        "input_text = \"\"\"\n",
        "Artificial intelligence (AI) is a branch of computer science focused on creating machines that can perform tasks that typically require human intelligence.\n",
        "These tasks include learning, reasoning, problem-solving, understanding natural language, and perception.\n",
        "AI is increasingly being used in various industries such as healthcare, finance, transportation, and customer service.\n",
        "\"\"\"\n",
        "\n",
        "summary = summarizer(input_text, max_length=50, min_length=25, do_sample=False)\n",
        "print(\"🔹 Summary:\")\n",
        "print(summary[0]['summary_text'])\n",
        "\n",
        "# Step 2: Question Answering\n",
        "question_answerer = pipeline(\"question-answering\")\n",
        "\n",
        "question = \"What is artificial intelligence used for?\"\n",
        "context = summary[0]['summary_text']\n",
        "\n",
        "answer = question_answerer({\n",
        "    'context': context,\n",
        "    'question': question\n",
        "})\n",
        "\n",
        "print(\"\\n❓ Answer to the question:\")\n",
        "print(answer['answer'])\n"
      ],
      "metadata": {
        "id": "FaUf1WjpK1Wb"
      },
      "execution_count": null,
      "outputs": []
    },
    {
      "cell_type": "code",
      "source": [
        "from google.colab import drive\n",
        "drive.mount('/content/drive')"
      ],
      "metadata": {
        "id": "jk2o_Gq7QAoT"
      },
      "execution_count": null,
      "outputs": []
    }
  ]
}