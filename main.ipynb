{
  "nbformat": 4,
  "nbformat_minor": 0,
  "metadata": {
    "colab": {
      "provenance": [],
      "toc_visible": true,
      "authorship_tag": "ABX9TyNEE6Im2slBpNwrz5soIbJ7",
      "include_colab_link": true
    },
    "kernelspec": {
      "name": "python3",
      "display_name": "Python 3"
    },
    "language_info": {
      "name": "python"
    }
  },
  "cells": [
    {
      "cell_type": "markdown",
      "metadata": {
        "id": "view-in-github",
        "colab_type": "text"
      },
      "source": [
        "<a href=\"https://colab.research.google.com/github/alabhastam/text-multi-task-engine/blob/main/main.ipynb\" target=\"_parent\"><img src=\"https://colab.research.google.com/assets/colab-badge.svg\" alt=\"Open In Colab\"/></a>"
      ]
    },
    {
      "cell_type": "code",
      "execution_count": null,
      "metadata": {
        "id": "EQp7QcRuIEYR"
      },
      "outputs": [],
      "source": [
        "from transformers import pipeline\n",
        "\n",
        "summarizer = pipeline(\"summarization\")\n",
        "summary = summarizer(\"A Long Text Generator is an AI-powered tool that automates the generation of lengthy pieces of text based on user input. By utilizing advanced algorithms and natural language processing (NLP) techniques, these generators can produce coherent and contextually relevant content on a wide range of topics. This technology marks a significant leap forward in content creation, offering a solution to the time-consuming nature of writing comprehensive articles, essays, product descriptions, and more.\", max_length=47)\n",
        "print(summary[0]['summary_text'])"
      ]
    },
    {
      "cell_type": "code",
      "source": [
        "from transformers import pipeline\n",
        "\n",
        "# Step 1: Summarization\n",
        "summarizer = pipeline(\"summarization\", model=\"facebook/bart-large-cnn\")\n",
        "\n",
        "input_text = \"\"\"\n",
        "Artificial intelligence (AI) is a branch of computer science focused on creating machines that can perform tasks that typically require human intelligence.\n",
        "These tasks include learning, reasoning, problem-solving, understanding natural language, and perception.\n",
        "AI is increasingly being used in various industries such as healthcare, finance, transportation, and customer service.\n",
        "\"\"\"\n",
        "\n",
        "summary = summarizer(input_text, max_length=50, min_length=25, do_sample=False)\n",
        "print(\"🔹 Summary:\")\n",
        "print(summary[0]['summary_text'])\n",
        "\n",
        "# Step 2: Question Answering\n",
        "question_answerer = pipeline(\"question-answering\")\n",
        "\n",
        "question = \"What is artificial intelligence used for?\"\n",
        "context = summary[0]['summary_text']\n",
        "\n",
        "answer = question_answerer({\n",
        "    'context': context,\n",
        "    'question': question\n",
        "})\n",
        "\n",
        "print(\"\\n❓ Answer to the question:\")\n",
        "print(answer['answer'])\n"
      ],
      "metadata": {
        "id": "FaUf1WjpK1Wb"
      },
      "execution_count": null,
      "outputs": []
    },
    {
      "cell_type": "code",
      "source": [
        "from google.colab import drive\n",
        "drive.mount('/content/drive')"
      ],
      "metadata": {
        "id": "jk2o_Gq7QAoT"
      },
      "execution_count": null,
      "outputs": []
    },
    {
      "cell_type": "code",
      "source": [
        "from transformers import pipeline\n",
        "\n",
        "generator = pipeline(\"text-generation\", model=\"gpt2\")\n",
        "\n",
        "prompt = \"The capital city of Brazil is rio isn't?\"\n",
        "result = generator(prompt, max_length=20, do_sample=False)\n",
        "print(result[0]['generated_text'])"
      ],
      "metadata": {
        "colab": {
          "base_uri": "https://localhost:8080/"
        },
        "id": "rI3p88tYH9_U",
        "outputId": "bf145597-b5e9-4579-deec-86d7fd9d507b"
      },
      "execution_count": 2,
      "outputs": [
        {
          "output_type": "stream",
          "name": "stderr",
          "text": [
            "Device set to use cpu\n",
            "Truncation was not explicitly activated but `max_length` is provided a specific value, please use `truncation=True` to explicitly truncate examples to max length. Defaulting to 'longest_first' truncation strategy. If you encode pairs of sequences (GLUE-style) with the tokenizer you can select this strategy more precisely by providing a specific strategy to `truncation`.\n",
            "The following generation flags are not valid and may be ignored: ['temperature']. Set `TRANSFORMERS_VERBOSITY=info` for more details.\n",
            "Setting `pad_token_id` to `eos_token_id`:50256 for open-end generation.\n",
            "Both `max_new_tokens` (=256) and `max_length`(=20) seem to have been set. `max_new_tokens` will take precedence. Please refer to the documentation for more information. (https://huggingface.co/docs/transformers/main/en/main_classes/text_generation)\n"
          ]
        },
        {
          "output_type": "stream",
          "name": "stdout",
          "text": [
            "The capital city of Brazil is rio isn't?\n",
            "\n",
            "The city of Rio de Janeiro is the capital of Brazil, and it's the capital of the world. It's the capital of the world. It's the capital of the world. It's the capital of the world. It's the capital of the world. It's the capital of the world. It's the capital of the world. It's the capital of the world. It's the capital of the world. It's the capital of the world. It's the capital of the world. It's the capital of the world. It's the capital of the world. It's the capital of the world. It's the capital of the world. It's the capital of the world. It's the capital of the world. It's the capital of the world. It's the capital of the world. It's the capital of the world. It's the capital of the world. It's the capital of the world. It's the capital of the world. It's the capital of the world. It's the capital of the world. It's the capital of the world. It's the capital of the world. It's the capital of the world. It's the capital of the world. It's the capital of the world. It\n"
          ]
        }
      ]
    },
    {
      "cell_type": "markdown",
      "source": [
        "as we see , I seduce gpt-2 to say Rio the capital of Brazil."
      ],
      "metadata": {
        "id": "voB-Ne5nI8OL"
      }
    }
  ]
}